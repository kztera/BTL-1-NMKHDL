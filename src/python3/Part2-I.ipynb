{
 "cells": [
  {
   "attachments": {},
   "cell_type": "markdown",
   "metadata": {},
   "source": [
    "```\n",
    "Summary by:\n",
    "- A41316 - Nguyễn Hữu Khoa\n",
    "- A42718 - Lê Thảo Quyên\n",
    "```\n",
    "\n",
    "> **Note:** Many source code is outdated, some parameters, function usage have been changed according to elasticsearch version 7.17.10\n"
   ]
  },
  {
   "attachments": {},
   "cell_type": "markdown",
   "metadata": {},
   "source": [
    "### Step 1: Setting up Elasticsearch locally\n",
    "\n",
    "- Download and install `elasticsearch` and `kibana` from https://www.elastic.co/downloads/elasticsearch and https://www.elastic.co/downloads/kibana \n",
    "- Then unzip the files and run the executables from bin folder\n",
    "- Elasticsearch will run on port 9200 and Kibana on port 5601 "
   ]
  },
  {
   "cell_type": "code",
   "execution_count": 21,
   "metadata": {},
   "outputs": [],
   "source": [
    "from datetime import datetime\n",
    "from elasticsearch import Elasticsearch\n",
    "import wikipedia\n",
    "import wikipediaapi\n",
    "import requests"
   ]
  },
  {
   "cell_type": "code",
   "execution_count": 5,
   "metadata": {},
   "outputs": [
    {
     "data": {
      "text/plain": [
       "{'acknowledged': True, 'shards_acknowledged': True, 'index': 'medical'}"
      ]
     },
     "execution_count": 5,
     "metadata": {},
     "output_type": "execute_result"
    }
   ],
   "source": [
    "# Elasticsearch client used to communicate with database\n",
    "client = Elasticsearch('http://localhost:9200')\n",
    "indexName = \"medical\" #index name\n",
    "client.indices.create(index=indexName) # create index"
   ]
  },
  {
   "cell_type": "code",
   "execution_count": 4,
   "metadata": {},
   "outputs": [],
   "source": [
    "# indexName = \"medical\" #index name\n",
    "# client.indices.delete(index=indexName) #delete an index"
   ]
  },
  {
   "cell_type": "code",
   "execution_count": 9,
   "metadata": {},
   "outputs": [],
   "source": [
    "diseaseMapping = {\n",
    "    'diseases': { # specify the mapping type here\n",
    "        'properties': {\n",
    "            'name': {'type': 'text'},\n",
    "            'title': {'type': 'text'},\n",
    "            'fulltext': {'type': 'text'}\n",
    "        }\n",
    "    }\n",
    "}\n"
   ]
  },
  {
   "cell_type": "code",
   "execution_count": 11,
   "metadata": {},
   "outputs": [
    {
     "data": {
      "text/plain": [
       "{'acknowledged': True}"
      ]
     },
     "execution_count": 11,
     "metadata": {},
     "output_type": "execute_result"
    }
   ],
   "source": [
    "client.indices.put_mapping(index=indexName,doc_type='diseases',body=diseaseMapping,include_type_name = True) # put mapping"
   ]
  },
  {
   "cell_type": "code",
   "execution_count": 23,
   "metadata": {},
   "outputs": [],
   "source": [
    "# client.indices.delete_mapping(index=indexName,doc_type='diseases')\n",
    "# es.indices.create(index=indexName)"
   ]
  },
  {
   "attachments": {},
   "cell_type": "markdown",
   "metadata": {},
   "source": [
    "# Wikipedia API\n",
    "# STEP 2 & 3: Data retrieval & preparation"
   ]
  },
  {
   "cell_type": "code",
   "execution_count": 12,
   "metadata": {},
   "outputs": [
    {
     "data": {
      "text/plain": [
       "['Airborne disease',\n",
       " 'Contagious disease',\n",
       " 'Cryptogenic disease',\n",
       " 'Disease',\n",
       " 'Disseminated disease',\n",
       " 'Endocrine disease',\n",
       " 'Environmental disease',\n",
       " 'Eye disease',\n",
       " 'Health On the Net Foundation',\n",
       " 'Lifestyle disease',\n",
       " 'List of abbreviations for diseases and disorders',\n",
       " 'List of autoimmune diseases',\n",
       " 'List of cancer types',\n",
       " 'List of childhood diseases and disorders',\n",
       " 'List of communication disorders',\n",
       " 'List of diseases (0–9)',\n",
       " 'List of diseases (A)',\n",
       " 'List of diseases (B)',\n",
       " 'List of diseases (C)',\n",
       " 'List of diseases (D)',\n",
       " 'List of diseases (E)',\n",
       " 'List of diseases (F)',\n",
       " 'List of diseases (G)',\n",
       " 'List of diseases (H)',\n",
       " 'List of diseases (I)',\n",
       " 'List of diseases (J)',\n",
       " 'List of diseases (K)',\n",
       " 'List of diseases (L)',\n",
       " 'List of diseases (M)',\n",
       " 'List of diseases (N)',\n",
       " 'List of diseases (O)',\n",
       " 'List of diseases (P)',\n",
       " 'List of diseases (Q)',\n",
       " 'List of diseases (R)',\n",
       " 'List of diseases (S)',\n",
       " 'List of diseases (T)',\n",
       " 'List of diseases (U)',\n",
       " 'List of diseases (V)',\n",
       " 'List of diseases (W)',\n",
       " 'List of diseases (X)',\n",
       " 'List of diseases (Y)',\n",
       " 'List of diseases (Z)',\n",
       " 'List of diseases by year of discovery',\n",
       " 'List of disorders',\n",
       " 'List of eating disorders',\n",
       " 'List of eponymous diseases',\n",
       " 'List of fictional diseases',\n",
       " 'List of genetic disorders',\n",
       " 'List of heart disorders',\n",
       " 'List of human disease case fatality rates',\n",
       " 'List of infectious diseases',\n",
       " 'List of intestinal diseases',\n",
       " 'List of mental disorders',\n",
       " 'List of neurological conditions and disorders',\n",
       " 'List of notifiable diseases',\n",
       " 'List of pollution-related diseases',\n",
       " 'List of skin conditions',\n",
       " 'List of syndromes',\n",
       " 'List of voice disorders',\n",
       " 'List of vulvovaginal disorders',\n",
       " 'Lists of animal diseases',\n",
       " 'Lists of plant diseases',\n",
       " 'Liver disease',\n",
       " 'Localized disease',\n",
       " 'Mood disorder',\n",
       " 'National Institutes of Health',\n",
       " 'Non-communicable disease',\n",
       " 'Organic disease',\n",
       " 'Orphanet',\n",
       " 'Outline of exercise',\n",
       " 'Outline of health',\n",
       " 'Outline of nutrition',\n",
       " 'Personality disorder',\n",
       " 'Progressive disease',\n",
       " 'Public health',\n",
       " 'Rare disease',\n",
       " 'Systemic disease']"
      ]
     },
     "execution_count": 12,
     "metadata": {},
     "output_type": "execute_result"
    }
   ],
   "source": [
    "dl = wikipedia.page(\"Lists_of_diseases\")\n",
    "dl.links"
   ]
  },
  {
   "cell_type": "code",
   "execution_count": 26,
   "metadata": {},
   "outputs": [
    {
     "name": "stdout",
     "output_type": "stream",
     "text": [
      "An error occurred while fetching the page 'List of diseases (M)'. Skipping...\n",
      "[List of diseases (0–9) (id: 5450474, ns: 0), List of diseases (A) (id: 236329, ns: 0), List of diseases (B) (id: 236333, ns: 0), List of diseases (C) (id: 236335, ns: 0), List of diseases (D) (id: 236337, ns: 0), List of diseases (E) (id: 236338, ns: 0), List of diseases (F) (id: 236339, ns: 0), List of diseases (G) (id: 236340, ns: 0), List of diseases (H) (id: 236342, ns: 0), List of diseases (I) (id: 236344, ns: 0), List of diseases (J) (id: 236345, ns: 0), List of diseases (K) (id: 236346, ns: 0), List of diseases (L) (id: 236349, ns: 0), List of diseases (N) (id: 61784, ns: 0), List of diseases (O) (id: 61785, ns: 0), List of diseases (P) (id: 61786, ns: 0), List of diseases (Q) (id: 61787, ns: 0), List of diseases (R) (id: 61788, ns: 0), List of diseases (S) (id: 61789, ns: 0), List of diseases (T) (id: 61790, ns: 0), List of diseases (U) (id: 61791, ns: 0), List of diseases (V) (id: 61792, ns: 0), List of diseases (W) (id: 61793, ns: 0), List of diseases (X) (id: 61794, ns: 0), List of diseases (Y) (id: 61795, ns: 0), List of diseases (Z) (id: 61796, ns: 0), List of diseases by year of discovery (id: 57004286, ns: 0)]\n"
     ]
    }
   ],
   "source": [
    "wiki_wiki = wikipediaapi.Wikipedia('en')\n",
    "\n",
    "diseaseListArray = []\n",
    "\n",
    "for link in dl.links:\n",
    "    if link.startswith(\"List of diseases\"):\n",
    "        try:\n",
    "            page_title = link\n",
    "            page = wiki_wiki.page(page_title)\n",
    "            \n",
    "            # Check if the page exists\n",
    "            if page.exists():\n",
    "                diseaseListArray.append(page)\n",
    "            else:\n",
    "                # Try alternative titles or variations\n",
    "                variations = [\n",
    "                    page_title,\n",
    "                    f\"List_of_diseases_{page_title[-1]}\",\n",
    "                    f\"List_of_diseases_{page_title[-1].upper()}\"\n",
    "                ]\n",
    "                for variation in variations:\n",
    "                    alt_page = wiki_wiki.page(variation)\n",
    "                    if alt_page.exists():\n",
    "                        diseaseListArray.append(alt_page)\n",
    "                        break\n",
    "                else:\n",
    "                    print(f\"Page '{page_title}' does not exist. Skipping...\")\n",
    "        except:\n",
    "            print(f\"An error occurred while fetching the page '{link}'. Skipping...\")\n",
    "\n",
    "print(diseaseListArray)\n"
   ]
  },
  {
   "cell_type": "code",
   "execution_count": 28,
   "metadata": {},
   "outputs": [
    {
     "data": {
      "text/plain": [
       "{'11 beta hydroxylase deficiency': 11 beta hydroxylase deficiency (id: ??, ns: 0),\n",
       " '11 beta hydroxysteroid dehydrogenase type 2 deficiency': 11 beta hydroxysteroid dehydrogenase type 2 deficiency (id: ??, ns: 0),\n",
       " '17-beta-hydroxysteroid dehydrogenase deficiency': 17-beta-hydroxysteroid dehydrogenase deficiency (id: ??, ns: 0),\n",
       " '17 alpha hydroxylase deficiency': 17 alpha hydroxylase deficiency (id: ??, ns: 0),\n",
       " '17 beta hydroxysteroide dehydrogenase deficiency': 17 beta hydroxysteroide dehydrogenase deficiency (id: ??, ns: 0),\n",
       " '17q21.31 microdeletion syndrome': 17q21.31 microdeletion syndrome (id: ??, ns: 0),\n",
       " '18-Hydroxylase deficiency': 18-Hydroxylase deficiency (id: ??, ns: 0),\n",
       " '18p deletion syndrome': 18p deletion syndrome (id: ??, ns: 0),\n",
       " '1p36 deletion syndrome': 1p36 deletion syndrome (id: ??, ns: 0),\n",
       " '2,8 dihydroxy-adenine urolithiasis': 2,8 dihydroxy-adenine urolithiasis (id: ??, ns: 0),\n",
       " '2-Hydroxyglutaricaciduria': 2-Hydroxyglutaricaciduria (id: ??, ns: 0),\n",
       " '2-Methylacetoacetyl CoA thiolase deficiency': 2-Methylacetoacetyl CoA thiolase deficiency (id: ??, ns: 0),\n",
       " '2-hydroxyethyl methacrylate sensitization': 2-hydroxyethyl methacrylate sensitization (id: ??, ns: 0),\n",
       " '2-hydroxyglutaricaciduria': 2-hydroxyglutaricaciduria (id: ??, ns: 0),\n",
       " '21 hydroxylase deficiency': 21 hydroxylase deficiency (id: ??, ns: 0),\n",
       " '22q11.2 deletion syndrome': 22q11.2 deletion syndrome (id: ??, ns: 0),\n",
       " '3-M syndrome': 3-M syndrome (id: ??, ns: 0),\n",
       " '3-hydroxy 3-methyl glutaryl-coa lyase deficiency': 3-hydroxy 3-methyl glutaryl-coa lyase deficiency (id: ??, ns: 0),\n",
       " '3-hydroxyacyl-coa dehydrogenase deficiency': 3-hydroxyacyl-coa dehydrogenase deficiency (id: ??, ns: 0),\n",
       " '3-methyl crotonyl-coa carboxylase deficiency': 3-methyl crotonyl-coa carboxylase deficiency (id: ??, ns: 0),\n",
       " '3-methyl glutaconic aciduria': 3-methyl glutaconic aciduria (id: ??, ns: 0),\n",
       " '3C syndrome': 3C syndrome (id: ??, ns: 0),\n",
       " '3 alpha methylcrotonyl-Coa carboxylase 1 deficiency': 3 alpha methylcrotonyl-Coa carboxylase 1 deficiency (id: ??, ns: 0),\n",
       " '3 alpha methylcrotonyl-coa carboxylase 2 deficiency': 3 alpha methylcrotonyl-coa carboxylase 2 deficiency (id: ??, ns: 0),\n",
       " '3 alpha methylglutaconic aciduria, type 3': 3 alpha methylglutaconic aciduria, type 3 (id: ??, ns: 0),\n",
       " '3 beta hydroxysteroid dehydrogenase deficiency': 3 beta hydroxysteroid dehydrogenase deficiency (id: ??, ns: 0),\n",
       " '3 hydroxyisobutyric aciduria': 3 hydroxyisobutyric aciduria (id: ??, ns: 0),\n",
       " '3 methylcrotonic aciduria': 3 methylcrotonic aciduria (id: ??, ns: 0),\n",
       " '3 methylglutaconyl coa hydratase deficiency': 3 methylglutaconyl coa hydratase deficiency (id: ??, ns: 0),\n",
       " '3q29 microdeletion syndrome': 3q29 microdeletion syndrome (id: ??, ns: 0),\n",
       " '4-Alpha-hydroxyphenylpyruvate hydroxylase deficiency': 4-Alpha-hydroxyphenylpyruvate hydroxylase deficiency (id: ??, ns: 0),\n",
       " '4-hydroxyphenylacetic aciduria': 4-hydroxyphenylacetic aciduria (id: ??, ns: 0),\n",
       " '46 xx gonadal dysgenesis epibulbar dermoid': 46 xx gonadal dysgenesis epibulbar dermoid (id: ??, ns: 0),\n",
       " '48, XXXX': 48, XXXX (id: ??, ns: 0),\n",
       " '49, XXXXX': 49, XXXXX (id: ??, ns: 0),\n",
       " '49, XXXXY syndrome': 49, XXXXY syndrome (id: ??, ns: 0),\n",
       " '5-Nucleotidase syndrome': 5-Nucleotidase syndrome (id: ??, ns: 0),\n",
       " '5-alpha-Oxoprolinase deficiency': 5-alpha-Oxoprolinase deficiency (id: ??, ns: 0),\n",
       " '5 alpha reductase 2 deficiency': 5 alpha reductase 2 deficiency (id: ??, ns: 0),\n",
       " '5q- syndrome': 5q- syndrome (id: ??, ns: 0),\n",
       " '6-pyruvoyl-tetrahydropterin synthase deficiency': 6-pyruvoyl-tetrahydropterin synthase deficiency (id: ??, ns: 0),\n",
       " '6-pyruvoyltetrahydropterin synthase deficiency': 6-pyruvoyltetrahydropterin synthase deficiency (id: ??, ns: 0),\n",
       " '6 alpha mercaptopurine sensitivity': 6 alpha mercaptopurine sensitivity (id: ??, ns: 0),\n",
       " '7-dehydrocholesterol reductase deficiency': 7-dehydrocholesterol reductase deficiency (id: ??, ns: 0),\n",
       " '8p23.1 duplication syndrome': 8p23.1 duplication syndrome (id: ??, ns: 0),\n",
       " '9q34 deletion syndrome': 9q34 deletion syndrome (id: ??, ns: 0),\n",
       " 'Cri du chat': Cri du chat (id: ??, ns: 0),\n",
       " 'Disease': Disease (id: ??, ns: 0),\n",
       " 'Distal Trisomy 10q': Distal Trisomy 10q (id: ??, ns: 0),\n",
       " 'Klinefelter syndrome': Klinefelter syndrome (id: ??, ns: 0),\n",
       " 'List of diseases (A)': List of diseases (A) (id: ??, ns: 0),\n",
       " 'List of diseases (B)': List of diseases (B) (id: ??, ns: 0),\n",
       " 'List of diseases (C)': List of diseases (C) (id: ??, ns: 0),\n",
       " 'List of diseases (D)': List of diseases (D) (id: ??, ns: 0),\n",
       " 'List of diseases (E)': List of diseases (E) (id: ??, ns: 0),\n",
       " 'List of diseases (F)': List of diseases (F) (id: ??, ns: 0),\n",
       " 'List of diseases (G)': List of diseases (G) (id: ??, ns: 0),\n",
       " 'List of diseases (H)': List of diseases (H) (id: ??, ns: 0),\n",
       " 'List of diseases (I)': List of diseases (I) (id: ??, ns: 0),\n",
       " 'List of diseases (J)': List of diseases (J) (id: ??, ns: 0),\n",
       " 'List of diseases (K)': List of diseases (K) (id: ??, ns: 0),\n",
       " 'List of diseases (L)': List of diseases (L) (id: ??, ns: 0),\n",
       " 'List of diseases (M)': List of diseases (M) (id: ??, ns: 0),\n",
       " 'List of diseases (N)': List of diseases (N) (id: ??, ns: 0),\n",
       " 'List of diseases (O)': List of diseases (O) (id: ??, ns: 0),\n",
       " 'List of diseases (P)': List of diseases (P) (id: ??, ns: 0),\n",
       " 'List of diseases (Q)': List of diseases (Q) (id: ??, ns: 0),\n",
       " 'List of diseases (R)': List of diseases (R) (id: ??, ns: 0),\n",
       " 'List of diseases (S)': List of diseases (S) (id: ??, ns: 0),\n",
       " 'List of diseases (T)': List of diseases (T) (id: ??, ns: 0),\n",
       " 'List of diseases (U)': List of diseases (U) (id: ??, ns: 0),\n",
       " 'List of diseases (V)': List of diseases (V) (id: ??, ns: 0),\n",
       " 'List of diseases (W)': List of diseases (W) (id: ??, ns: 0),\n",
       " 'List of diseases (X)': List of diseases (X) (id: ??, ns: 0),\n",
       " 'List of diseases (Y)': List of diseases (Y) (id: ??, ns: 0),\n",
       " 'List of diseases (Z)': List of diseases (Z) (id: ??, ns: 0),\n",
       " 'Lists of diseases': Lists of diseases (id: ??, ns: 0),\n",
       " 'Optic atrophy': Optic atrophy (id: ??, ns: 0),\n",
       " 'Outline of exercise': Outline of exercise (id: ??, ns: 0),\n",
       " 'Outline of health': Outline of health (id: ??, ns: 0),\n",
       " 'Outline of nutrition': Outline of nutrition (id: ??, ns: 0),\n",
       " 'Triple X syndrome': Triple X syndrome (id: ??, ns: 0),\n",
       " 'XXYY syndrome': XXYY syndrome (id: ??, ns: 0),\n",
       " 'XYY syndrome': XYY syndrome (id: ??, ns: 0),\n",
       " 'Template:Cite web': Template:Cite web (id: ??, ns: 10),\n",
       " 'Category:CS1 maint: archived copy as title': Category:CS1 maint: archived copy as title (id: ??, ns: 14)}"
      ]
     },
     "execution_count": 28,
     "metadata": {},
     "output_type": "execute_result"
    }
   ],
   "source": [
    "diseaseListArray[0].links"
   ]
  },
  {
   "cell_type": "code",
   "execution_count": 30,
   "metadata": {},
   "outputs": [
    {
     "name": "stderr",
     "output_type": "stream",
     "text": [
      "d:\\Documents\\giaoTrinh\\nam_2\\ki-3\\nhap-mon-khoa-hoc-du-lieu\\bai-tap-lon-1\\.venv\\lib\\site-packages\\elasticsearch\\connection\\base.py:200: ElasticsearchWarning: Elasticsearch built-in security features are not enabled. Without authentication, your cluster could be accessible to anyone. See https://www.elastic.co/guide/en/elasticsearch/reference/7.17/security-minimal-setup.html to enable security.\n",
      "  warnings.warn(message, category=ElasticsearchWarning)\n"
     ]
    },
    {
     "name": "stdout",
     "output_type": "stream",
     "text": [
      "Page id \"4 hydroxyphenylacetic acidalia\" does not match any pages. Try another id!\n",
      "HTTPConnectionPool(host='en.wikipedia.org', port=80): Max retries exceeded with url: /w/api.php?prop=extracts%7Crevisions&explaintext=&rvprop=ids&titles=Achromatopsia&format=json&action=query (Caused by ConnectTimeoutError(<urllib3.connection.HTTPConnection object at 0x000001C88EDFA2C0>, 'Connection to en.wikipedia.org timed out. (connect timeout=None)'))\n"
     ]
    },
    {
     "name": "stderr",
     "output_type": "stream",
     "text": [
      "d:\\Documents\\giaoTrinh\\nam_2\\ki-3\\nhap-mon-khoa-hoc-du-lieu\\bai-tap-lon-1\\.venv\\lib\\site-packages\\wikipedia\\wikipedia.py:389: GuessedAtParserWarning: No parser was explicitly specified, so I'm using the best available HTML parser for this system (\"html.parser\"). This usually isn't a problem, but if you run this code on another system, or in a different virtual environment, it may use a different parser and behave differently.\n",
      "\n",
      "The code that caused this warning is on line 389 of the file d:\\Documents\\giaoTrinh\\nam_2\\ki-3\\nhap-mon-khoa-hoc-du-lieu\\bai-tap-lon-1\\.venv\\lib\\site-packages\\wikipedia\\wikipedia.py. To get rid of this warning, pass the additional argument 'features=\"html.parser\"' to the BeautifulSoup constructor.\n",
      "\n",
      "  lis = BeautifulSoup(html).find_all('li')\n"
     ]
    },
    {
     "name": "stdout",
     "output_type": "stream",
     "text": [
      "\"acme\" may refer to: \n",
      "Acme (album)\n",
      "Catullus 45\n",
      "Acme Corporation\n",
      "ACME Detective Agency\n",
      "Acme Studios\n",
      "The ACME Laboratories Ltd\n",
      "Acme Motor Co\n",
      "Acme Press\n",
      "Acme Space\n",
      "Acme Whistles\n",
      "Rockstar North\n",
      "Acme Aircraft Co\n",
      "Acme Aircraft Corporation\n",
      "Acme Boots\n",
      "Acme Bread Company\n",
      "Acme Brick\n",
      "ACME Comics & Collectibles\n",
      "ACME Communications\n",
      "Acme Fresh Market\n",
      "Acme Markets\n",
      "Acme (automobile)\n",
      "ACME Newspictures\n",
      "Acme Packet\n",
      "Acme Tackle Company\n",
      "Acme Truck Line\n",
      "Acme United Corporation\n",
      "Air Craft Marine Engineering\n",
      "Acme, Alberta\n",
      "Acme, Indiana\n",
      "Acme, Kansas\n",
      "Acme, Louisiana\n",
      "Acme, Michigan\n",
      "Acme Township, Michigan\n",
      "Acme, North Carolina\n",
      "Acme Township, Hettinger County, North Dakota\n",
      "Acme, Oklahoma\n",
      "Acme, Pennsylvania\n",
      "Acme, Texas\n",
      "Acme, Washington\n",
      "Acme, West Virginia\n",
      "Acme Farm Supply Building\n",
      "ACME Comedy Theatre\n",
      "Acme (computer virus)\n",
      "ACME (health software)\n",
      "Acme (text editor)\n",
      "Acme thread form\n",
      "Acme zone\n",
      "Arginine catabolic mobile element\n",
      "Automatic Certificate Management Environment\n",
      "Summit\n",
      "Advisory Committee on Mathematics Education\n",
      "Jef Poskanzer\n",
      "Accentor-class minesweeper\n",
      "USS Acme (AMc-61)\n",
      "USS Acme (MSO-508)\n",
      "USS Abarenda (IX-131)\n",
      "Acme (1876)\n",
      "Acme (steamboat)\n",
      "Acme motorcycle (1911–1913)\n",
      "Acme motorcycle (1915–1917)\n",
      "Acme motorcycle (1939–1949)\n",
      "Acme (enslaved woman)\n",
      "Acme (solitaire)\n",
      "Page id \"acraea regal mandibular syndrome\" does not match any pages. Try another id!\n",
      "Page id \"acre como mesomelic dysplasia\" does not match any pages. Try another id!\n",
      "\"acrocephalus\" may refer to: \n",
      "Acrocephalus (bird)\n",
      "Acrocephalus (plant)\n",
      "Page id \"acrofacial dysostosis patagonia type\" does not match any pages. Try another id!\n",
      "Page id \"acrofacial dysostosis catalonia ford\" does not match any pages. Try another id!\n",
      "Page id \"acrofacial dysostosis press type\" does not match any pages. Try another id!\n",
      "Page id \"acrofacial dysostosis weavers type\" does not match any pages. Try another id!\n",
      "Page id \"acromegaloid changes cutis verticis gyrata cornell\" does not match any pages. Try another id!\n",
      "Page id \"acromesomelic dysplasia brahim bagha type\" does not match any pages. Try another id!\n",
      "Page id \"acromesomelic dysplasia campanula marginella type\" does not match any pages. Try another id!\n",
      "Page id \"adducted thumbs dunbar type\" does not match any pages. Try another id!\n",
      "Page id \"adenocarcinoma tumor\" does not match any pages. Try another id!\n",
      "Page id \"adenosine triphosphate deficiency anaemia due to\" does not match any pages. Try another id!\n"
     ]
    },
    {
     "ename": "KeyboardInterrupt",
     "evalue": "",
     "output_type": "error",
     "traceback": [
      "\u001b[1;31m---------------------------------------------------------------------------\u001b[0m",
      "\u001b[1;31mKeyboardInterrupt\u001b[0m                         Traceback (most recent call last)",
      "Cell \u001b[1;32mIn[30], line 17\u001b[0m\n\u001b[0;32m      9\u001b[0m     \u001b[39mif\u001b[39;00m disease[\u001b[39m0\u001b[39m] \u001b[39min\u001b[39;00m checkList[diseaselistNumber] \u001b[39mand\u001b[39;00m disease[\u001b[39m0\u001b[39m:\u001b[39m3\u001b[39m] \u001b[39m!=\u001b[39m \u001b[39m\"\u001b[39m\u001b[39mList\u001b[39m\u001b[39m\"\u001b[39m:\n\u001b[0;32m     10\u001b[0m         currentPage \u001b[39m=\u001b[39m wikipedia\u001b[39m.\u001b[39mpage(disease)\n\u001b[0;32m     11\u001b[0m         client\u001b[39m.\u001b[39mindex(\n\u001b[0;32m     12\u001b[0m             index\u001b[39m=\u001b[39mindexName,\n\u001b[0;32m     13\u001b[0m             \u001b[39mid\u001b[39m\u001b[39m=\u001b[39mdisease,\n\u001b[0;32m     14\u001b[0m             document\u001b[39m=\u001b[39m{\n\u001b[0;32m     15\u001b[0m                 \u001b[39m\"\u001b[39m\u001b[39mname\u001b[39m\u001b[39m\"\u001b[39m: disease,\n\u001b[0;32m     16\u001b[0m                 \u001b[39m\"\u001b[39m\u001b[39mtitle\u001b[39m\u001b[39m\"\u001b[39m: currentPage\u001b[39m.\u001b[39mtitle,\n\u001b[1;32m---> 17\u001b[0m                 \u001b[39m\"\u001b[39m\u001b[39mfulltext\u001b[39m\u001b[39m\"\u001b[39m: currentPage\u001b[39m.\u001b[39;49mcontent\n\u001b[0;32m     18\u001b[0m             }\n\u001b[0;32m     19\u001b[0m         )\n\u001b[0;32m     20\u001b[0m \u001b[39mexcept\u001b[39;00m \u001b[39mException\u001b[39;00m \u001b[39mas\u001b[39;00m e:\n\u001b[0;32m     21\u001b[0m     \u001b[39mprint\u001b[39m(\u001b[39mstr\u001b[39m(e))\n",
      "File \u001b[1;32md:\\Documents\\giaoTrinh\\nam_2\\ki-3\\nhap-mon-khoa-hoc-du-lieu\\bai-tap-lon-1\\.venv\\lib\\site-packages\\wikipedia\\wikipedia.py:475\u001b[0m, in \u001b[0;36mWikipediaPage.content\u001b[1;34m(self)\u001b[0m\n\u001b[0;32m    473\u001b[0m \u001b[39melse\u001b[39;00m:\n\u001b[0;32m    474\u001b[0m    query_params[\u001b[39m'\u001b[39m\u001b[39mpageids\u001b[39m\u001b[39m'\u001b[39m] \u001b[39m=\u001b[39m \u001b[39mself\u001b[39m\u001b[39m.\u001b[39mpageid\n\u001b[1;32m--> 475\u001b[0m request \u001b[39m=\u001b[39m _wiki_request(query_params)\n\u001b[0;32m    476\u001b[0m \u001b[39mself\u001b[39m\u001b[39m.\u001b[39m_content     \u001b[39m=\u001b[39m request[\u001b[39m'\u001b[39m\u001b[39mquery\u001b[39m\u001b[39m'\u001b[39m][\u001b[39m'\u001b[39m\u001b[39mpages\u001b[39m\u001b[39m'\u001b[39m][\u001b[39mself\u001b[39m\u001b[39m.\u001b[39mpageid][\u001b[39m'\u001b[39m\u001b[39mextract\u001b[39m\u001b[39m'\u001b[39m]\n\u001b[0;32m    477\u001b[0m \u001b[39mself\u001b[39m\u001b[39m.\u001b[39m_revision_id \u001b[39m=\u001b[39m request[\u001b[39m'\u001b[39m\u001b[39mquery\u001b[39m\u001b[39m'\u001b[39m][\u001b[39m'\u001b[39m\u001b[39mpages\u001b[39m\u001b[39m'\u001b[39m][\u001b[39mself\u001b[39m\u001b[39m.\u001b[39mpageid][\u001b[39m'\u001b[39m\u001b[39mrevisions\u001b[39m\u001b[39m'\u001b[39m][\u001b[39m0\u001b[39m][\u001b[39m'\u001b[39m\u001b[39mrevid\u001b[39m\u001b[39m'\u001b[39m]\n",
      "File \u001b[1;32md:\\Documents\\giaoTrinh\\nam_2\\ki-3\\nhap-mon-khoa-hoc-du-lieu\\bai-tap-lon-1\\.venv\\lib\\site-packages\\wikipedia\\wikipedia.py:737\u001b[0m, in \u001b[0;36m_wiki_request\u001b[1;34m(params)\u001b[0m\n\u001b[0;32m    734\u001b[0m   wait_time \u001b[39m=\u001b[39m (RATE_LIMIT_LAST_CALL \u001b[39m+\u001b[39m RATE_LIMIT_MIN_WAIT) \u001b[39m-\u001b[39m datetime\u001b[39m.\u001b[39mnow()\n\u001b[0;32m    735\u001b[0m   time\u001b[39m.\u001b[39msleep(\u001b[39mint\u001b[39m(wait_time\u001b[39m.\u001b[39mtotal_seconds()))\n\u001b[1;32m--> 737\u001b[0m r \u001b[39m=\u001b[39m requests\u001b[39m.\u001b[39;49mget(API_URL, params\u001b[39m=\u001b[39;49mparams, headers\u001b[39m=\u001b[39;49mheaders)\n\u001b[0;32m    739\u001b[0m \u001b[39mif\u001b[39;00m RATE_LIMIT:\n\u001b[0;32m    740\u001b[0m   RATE_LIMIT_LAST_CALL \u001b[39m=\u001b[39m datetime\u001b[39m.\u001b[39mnow()\n",
      "File \u001b[1;32md:\\Documents\\giaoTrinh\\nam_2\\ki-3\\nhap-mon-khoa-hoc-du-lieu\\bai-tap-lon-1\\.venv\\lib\\site-packages\\requests\\api.py:73\u001b[0m, in \u001b[0;36mget\u001b[1;34m(url, params, **kwargs)\u001b[0m\n\u001b[0;32m     62\u001b[0m \u001b[39mdef\u001b[39;00m \u001b[39mget\u001b[39m(url, params\u001b[39m=\u001b[39m\u001b[39mNone\u001b[39;00m, \u001b[39m*\u001b[39m\u001b[39m*\u001b[39mkwargs):\n\u001b[0;32m     63\u001b[0m \u001b[39m    \u001b[39m\u001b[39mr\u001b[39m\u001b[39m\"\"\"Sends a GET request.\u001b[39;00m\n\u001b[0;32m     64\u001b[0m \n\u001b[0;32m     65\u001b[0m \u001b[39m    :param url: URL for the new :class:`Request` object.\u001b[39;00m\n\u001b[1;32m   (...)\u001b[0m\n\u001b[0;32m     70\u001b[0m \u001b[39m    :rtype: requests.Response\u001b[39;00m\n\u001b[0;32m     71\u001b[0m \u001b[39m    \"\"\"\u001b[39;00m\n\u001b[1;32m---> 73\u001b[0m     \u001b[39mreturn\u001b[39;00m request(\u001b[39m\"\u001b[39m\u001b[39mget\u001b[39m\u001b[39m\"\u001b[39m, url, params\u001b[39m=\u001b[39mparams, \u001b[39m*\u001b[39m\u001b[39m*\u001b[39mkwargs)\n",
      "File \u001b[1;32md:\\Documents\\giaoTrinh\\nam_2\\ki-3\\nhap-mon-khoa-hoc-du-lieu\\bai-tap-lon-1\\.venv\\lib\\site-packages\\requests\\api.py:59\u001b[0m, in \u001b[0;36mrequest\u001b[1;34m(method, url, **kwargs)\u001b[0m\n\u001b[0;32m     55\u001b[0m \u001b[39m# By using the 'with' statement we are sure the session is closed, thus we\u001b[39;00m\n\u001b[0;32m     56\u001b[0m \u001b[39m# avoid leaving sockets open which can trigger a ResourceWarning in some\u001b[39;00m\n\u001b[0;32m     57\u001b[0m \u001b[39m# cases, and look like a memory leak in others.\u001b[39;00m\n\u001b[0;32m     58\u001b[0m \u001b[39mwith\u001b[39;00m sessions\u001b[39m.\u001b[39mSession() \u001b[39mas\u001b[39;00m session:\n\u001b[1;32m---> 59\u001b[0m     \u001b[39mreturn\u001b[39;00m session\u001b[39m.\u001b[39mrequest(method\u001b[39m=\u001b[39mmethod, url\u001b[39m=\u001b[39murl, \u001b[39m*\u001b[39m\u001b[39m*\u001b[39mkwargs)\n",
      "File \u001b[1;32md:\\Documents\\giaoTrinh\\nam_2\\ki-3\\nhap-mon-khoa-hoc-du-lieu\\bai-tap-lon-1\\.venv\\lib\\site-packages\\requests\\sessions.py:589\u001b[0m, in \u001b[0;36mSession.request\u001b[1;34m(self, method, url, params, data, headers, cookies, files, auth, timeout, allow_redirects, proxies, hooks, stream, verify, cert, json)\u001b[0m\n\u001b[0;32m    584\u001b[0m send_kwargs \u001b[39m=\u001b[39m {\n\u001b[0;32m    585\u001b[0m     \u001b[39m\"\u001b[39m\u001b[39mtimeout\u001b[39m\u001b[39m\"\u001b[39m: timeout,\n\u001b[0;32m    586\u001b[0m     \u001b[39m\"\u001b[39m\u001b[39mallow_redirects\u001b[39m\u001b[39m\"\u001b[39m: allow_redirects,\n\u001b[0;32m    587\u001b[0m }\n\u001b[0;32m    588\u001b[0m send_kwargs\u001b[39m.\u001b[39mupdate(settings)\n\u001b[1;32m--> 589\u001b[0m resp \u001b[39m=\u001b[39m \u001b[39mself\u001b[39m\u001b[39m.\u001b[39msend(prep, \u001b[39m*\u001b[39m\u001b[39m*\u001b[39msend_kwargs)\n\u001b[0;32m    591\u001b[0m \u001b[39mreturn\u001b[39;00m resp\n",
      "File \u001b[1;32md:\\Documents\\giaoTrinh\\nam_2\\ki-3\\nhap-mon-khoa-hoc-du-lieu\\bai-tap-lon-1\\.venv\\lib\\site-packages\\requests\\sessions.py:725\u001b[0m, in \u001b[0;36mSession.send\u001b[1;34m(self, request, **kwargs)\u001b[0m\n\u001b[0;32m    722\u001b[0m \u001b[39mif\u001b[39;00m allow_redirects:\n\u001b[0;32m    723\u001b[0m     \u001b[39m# Redirect resolving generator.\u001b[39;00m\n\u001b[0;32m    724\u001b[0m     gen \u001b[39m=\u001b[39m \u001b[39mself\u001b[39m\u001b[39m.\u001b[39mresolve_redirects(r, request, \u001b[39m*\u001b[39m\u001b[39m*\u001b[39mkwargs)\n\u001b[1;32m--> 725\u001b[0m     history \u001b[39m=\u001b[39m [resp \u001b[39mfor\u001b[39;00m resp \u001b[39min\u001b[39;00m gen]\n\u001b[0;32m    726\u001b[0m \u001b[39melse\u001b[39;00m:\n\u001b[0;32m    727\u001b[0m     history \u001b[39m=\u001b[39m []\n",
      "File \u001b[1;32md:\\Documents\\giaoTrinh\\nam_2\\ki-3\\nhap-mon-khoa-hoc-du-lieu\\bai-tap-lon-1\\.venv\\lib\\site-packages\\requests\\sessions.py:725\u001b[0m, in \u001b[0;36m<listcomp>\u001b[1;34m(.0)\u001b[0m\n\u001b[0;32m    722\u001b[0m \u001b[39mif\u001b[39;00m allow_redirects:\n\u001b[0;32m    723\u001b[0m     \u001b[39m# Redirect resolving generator.\u001b[39;00m\n\u001b[0;32m    724\u001b[0m     gen \u001b[39m=\u001b[39m \u001b[39mself\u001b[39m\u001b[39m.\u001b[39mresolve_redirects(r, request, \u001b[39m*\u001b[39m\u001b[39m*\u001b[39mkwargs)\n\u001b[1;32m--> 725\u001b[0m     history \u001b[39m=\u001b[39m [resp \u001b[39mfor\u001b[39;00m resp \u001b[39min\u001b[39;00m gen]\n\u001b[0;32m    726\u001b[0m \u001b[39melse\u001b[39;00m:\n\u001b[0;32m    727\u001b[0m     history \u001b[39m=\u001b[39m []\n",
      "File \u001b[1;32md:\\Documents\\giaoTrinh\\nam_2\\ki-3\\nhap-mon-khoa-hoc-du-lieu\\bai-tap-lon-1\\.venv\\lib\\site-packages\\requests\\sessions.py:266\u001b[0m, in \u001b[0;36mSessionRedirectMixin.resolve_redirects\u001b[1;34m(self, resp, req, stream, timeout, verify, cert, proxies, yield_requests, **adapter_kwargs)\u001b[0m\n\u001b[0;32m    263\u001b[0m     \u001b[39myield\u001b[39;00m req\n\u001b[0;32m    264\u001b[0m \u001b[39melse\u001b[39;00m:\n\u001b[1;32m--> 266\u001b[0m     resp \u001b[39m=\u001b[39m \u001b[39mself\u001b[39m\u001b[39m.\u001b[39msend(\n\u001b[0;32m    267\u001b[0m         req,\n\u001b[0;32m    268\u001b[0m         stream\u001b[39m=\u001b[39mstream,\n\u001b[0;32m    269\u001b[0m         timeout\u001b[39m=\u001b[39mtimeout,\n\u001b[0;32m    270\u001b[0m         verify\u001b[39m=\u001b[39mverify,\n\u001b[0;32m    271\u001b[0m         cert\u001b[39m=\u001b[39mcert,\n\u001b[0;32m    272\u001b[0m         proxies\u001b[39m=\u001b[39mproxies,\n\u001b[0;32m    273\u001b[0m         allow_redirects\u001b[39m=\u001b[39m\u001b[39mFalse\u001b[39;00m,\n\u001b[0;32m    274\u001b[0m         \u001b[39m*\u001b[39m\u001b[39m*\u001b[39madapter_kwargs,\n\u001b[0;32m    275\u001b[0m     )\n\u001b[0;32m    277\u001b[0m     extract_cookies_to_jar(\u001b[39mself\u001b[39m\u001b[39m.\u001b[39mcookies, prepared_request, resp\u001b[39m.\u001b[39mraw)\n\u001b[0;32m    279\u001b[0m     \u001b[39m# extract redirect url, if any, for the next loop\u001b[39;00m\n",
      "File \u001b[1;32md:\\Documents\\giaoTrinh\\nam_2\\ki-3\\nhap-mon-khoa-hoc-du-lieu\\bai-tap-lon-1\\.venv\\lib\\site-packages\\requests\\sessions.py:703\u001b[0m, in \u001b[0;36mSession.send\u001b[1;34m(self, request, **kwargs)\u001b[0m\n\u001b[0;32m    700\u001b[0m start \u001b[39m=\u001b[39m preferred_clock()\n\u001b[0;32m    702\u001b[0m \u001b[39m# Send the request\u001b[39;00m\n\u001b[1;32m--> 703\u001b[0m r \u001b[39m=\u001b[39m adapter\u001b[39m.\u001b[39msend(request, \u001b[39m*\u001b[39m\u001b[39m*\u001b[39mkwargs)\n\u001b[0;32m    705\u001b[0m \u001b[39m# Total elapsed time of the request (approximately)\u001b[39;00m\n\u001b[0;32m    706\u001b[0m elapsed \u001b[39m=\u001b[39m preferred_clock() \u001b[39m-\u001b[39m start\n",
      "File \u001b[1;32md:\\Documents\\giaoTrinh\\nam_2\\ki-3\\nhap-mon-khoa-hoc-du-lieu\\bai-tap-lon-1\\.venv\\lib\\site-packages\\requests\\adapters.py:486\u001b[0m, in \u001b[0;36mHTTPAdapter.send\u001b[1;34m(self, request, stream, timeout, verify, cert, proxies)\u001b[0m\n\u001b[0;32m    483\u001b[0m     timeout \u001b[39m=\u001b[39m TimeoutSauce(connect\u001b[39m=\u001b[39mtimeout, read\u001b[39m=\u001b[39mtimeout)\n\u001b[0;32m    485\u001b[0m \u001b[39mtry\u001b[39;00m:\n\u001b[1;32m--> 486\u001b[0m     resp \u001b[39m=\u001b[39m conn\u001b[39m.\u001b[39;49murlopen(\n\u001b[0;32m    487\u001b[0m         method\u001b[39m=\u001b[39;49mrequest\u001b[39m.\u001b[39;49mmethod,\n\u001b[0;32m    488\u001b[0m         url\u001b[39m=\u001b[39;49murl,\n\u001b[0;32m    489\u001b[0m         body\u001b[39m=\u001b[39;49mrequest\u001b[39m.\u001b[39;49mbody,\n\u001b[0;32m    490\u001b[0m         headers\u001b[39m=\u001b[39;49mrequest\u001b[39m.\u001b[39;49mheaders,\n\u001b[0;32m    491\u001b[0m         redirect\u001b[39m=\u001b[39;49m\u001b[39mFalse\u001b[39;49;00m,\n\u001b[0;32m    492\u001b[0m         assert_same_host\u001b[39m=\u001b[39;49m\u001b[39mFalse\u001b[39;49;00m,\n\u001b[0;32m    493\u001b[0m         preload_content\u001b[39m=\u001b[39;49m\u001b[39mFalse\u001b[39;49;00m,\n\u001b[0;32m    494\u001b[0m         decode_content\u001b[39m=\u001b[39;49m\u001b[39mFalse\u001b[39;49;00m,\n\u001b[0;32m    495\u001b[0m         retries\u001b[39m=\u001b[39;49m\u001b[39mself\u001b[39;49m\u001b[39m.\u001b[39;49mmax_retries,\n\u001b[0;32m    496\u001b[0m         timeout\u001b[39m=\u001b[39;49mtimeout,\n\u001b[0;32m    497\u001b[0m         chunked\u001b[39m=\u001b[39;49mchunked,\n\u001b[0;32m    498\u001b[0m     )\n\u001b[0;32m    500\u001b[0m \u001b[39mexcept\u001b[39;00m (ProtocolError, \u001b[39mOSError\u001b[39;00m) \u001b[39mas\u001b[39;00m err:\n\u001b[0;32m    501\u001b[0m     \u001b[39mraise\u001b[39;00m \u001b[39mConnectionError\u001b[39;00m(err, request\u001b[39m=\u001b[39mrequest)\n",
      "File \u001b[1;32md:\\Documents\\giaoTrinh\\nam_2\\ki-3\\nhap-mon-khoa-hoc-du-lieu\\bai-tap-lon-1\\.venv\\lib\\site-packages\\urllib3\\connectionpool.py:714\u001b[0m, in \u001b[0;36mHTTPConnectionPool.urlopen\u001b[1;34m(self, method, url, body, headers, retries, redirect, assert_same_host, timeout, pool_timeout, release_conn, chunked, body_pos, **response_kw)\u001b[0m\n\u001b[0;32m    711\u001b[0m     \u001b[39mself\u001b[39m\u001b[39m.\u001b[39m_prepare_proxy(conn)\n\u001b[0;32m    713\u001b[0m \u001b[39m# Make the request on the httplib connection object.\u001b[39;00m\n\u001b[1;32m--> 714\u001b[0m httplib_response \u001b[39m=\u001b[39m \u001b[39mself\u001b[39;49m\u001b[39m.\u001b[39;49m_make_request(\n\u001b[0;32m    715\u001b[0m     conn,\n\u001b[0;32m    716\u001b[0m     method,\n\u001b[0;32m    717\u001b[0m     url,\n\u001b[0;32m    718\u001b[0m     timeout\u001b[39m=\u001b[39;49mtimeout_obj,\n\u001b[0;32m    719\u001b[0m     body\u001b[39m=\u001b[39;49mbody,\n\u001b[0;32m    720\u001b[0m     headers\u001b[39m=\u001b[39;49mheaders,\n\u001b[0;32m    721\u001b[0m     chunked\u001b[39m=\u001b[39;49mchunked,\n\u001b[0;32m    722\u001b[0m )\n\u001b[0;32m    724\u001b[0m \u001b[39m# If we're going to release the connection in ``finally:``, then\u001b[39;00m\n\u001b[0;32m    725\u001b[0m \u001b[39m# the response doesn't need to know about the connection. Otherwise\u001b[39;00m\n\u001b[0;32m    726\u001b[0m \u001b[39m# it will also try to release it and we'll have a double-release\u001b[39;00m\n\u001b[0;32m    727\u001b[0m \u001b[39m# mess.\u001b[39;00m\n\u001b[0;32m    728\u001b[0m response_conn \u001b[39m=\u001b[39m conn \u001b[39mif\u001b[39;00m \u001b[39mnot\u001b[39;00m release_conn \u001b[39melse\u001b[39;00m \u001b[39mNone\u001b[39;00m\n",
      "File \u001b[1;32md:\\Documents\\giaoTrinh\\nam_2\\ki-3\\nhap-mon-khoa-hoc-du-lieu\\bai-tap-lon-1\\.venv\\lib\\site-packages\\urllib3\\connectionpool.py:403\u001b[0m, in \u001b[0;36mHTTPConnectionPool._make_request\u001b[1;34m(self, conn, method, url, timeout, chunked, **httplib_request_kw)\u001b[0m\n\u001b[0;32m    401\u001b[0m \u001b[39m# Trigger any extra validation we need to do.\u001b[39;00m\n\u001b[0;32m    402\u001b[0m \u001b[39mtry\u001b[39;00m:\n\u001b[1;32m--> 403\u001b[0m     \u001b[39mself\u001b[39;49m\u001b[39m.\u001b[39;49m_validate_conn(conn)\n\u001b[0;32m    404\u001b[0m \u001b[39mexcept\u001b[39;00m (SocketTimeout, BaseSSLError) \u001b[39mas\u001b[39;00m e:\n\u001b[0;32m    405\u001b[0m     \u001b[39m# Py2 raises this as a BaseSSLError, Py3 raises it as socket timeout.\u001b[39;00m\n\u001b[0;32m    406\u001b[0m     \u001b[39mself\u001b[39m\u001b[39m.\u001b[39m_raise_timeout(err\u001b[39m=\u001b[39me, url\u001b[39m=\u001b[39murl, timeout_value\u001b[39m=\u001b[39mconn\u001b[39m.\u001b[39mtimeout)\n",
      "File \u001b[1;32md:\\Documents\\giaoTrinh\\nam_2\\ki-3\\nhap-mon-khoa-hoc-du-lieu\\bai-tap-lon-1\\.venv\\lib\\site-packages\\urllib3\\connectionpool.py:1053\u001b[0m, in \u001b[0;36mHTTPSConnectionPool._validate_conn\u001b[1;34m(self, conn)\u001b[0m\n\u001b[0;32m   1051\u001b[0m \u001b[39m# Force connect early to allow us to validate the connection.\u001b[39;00m\n\u001b[0;32m   1052\u001b[0m \u001b[39mif\u001b[39;00m \u001b[39mnot\u001b[39;00m \u001b[39mgetattr\u001b[39m(conn, \u001b[39m\"\u001b[39m\u001b[39msock\u001b[39m\u001b[39m\"\u001b[39m, \u001b[39mNone\u001b[39;00m):  \u001b[39m# AppEngine might not have  `.sock`\u001b[39;00m\n\u001b[1;32m-> 1053\u001b[0m     conn\u001b[39m.\u001b[39;49mconnect()\n\u001b[0;32m   1055\u001b[0m \u001b[39mif\u001b[39;00m \u001b[39mnot\u001b[39;00m conn\u001b[39m.\u001b[39mis_verified:\n\u001b[0;32m   1056\u001b[0m     warnings\u001b[39m.\u001b[39mwarn(\n\u001b[0;32m   1057\u001b[0m         (\n\u001b[0;32m   1058\u001b[0m             \u001b[39m\"\u001b[39m\u001b[39mUnverified HTTPS request is being made to host \u001b[39m\u001b[39m'\u001b[39m\u001b[39m%s\u001b[39;00m\u001b[39m'\u001b[39m\u001b[39m. \u001b[39m\u001b[39m\"\u001b[39m\n\u001b[1;32m   (...)\u001b[0m\n\u001b[0;32m   1063\u001b[0m         InsecureRequestWarning,\n\u001b[0;32m   1064\u001b[0m     )\n",
      "File \u001b[1;32md:\\Documents\\giaoTrinh\\nam_2\\ki-3\\nhap-mon-khoa-hoc-du-lieu\\bai-tap-lon-1\\.venv\\lib\\site-packages\\urllib3\\connection.py:363\u001b[0m, in \u001b[0;36mHTTPSConnection.connect\u001b[1;34m(self)\u001b[0m\n\u001b[0;32m    361\u001b[0m \u001b[39mdef\u001b[39;00m \u001b[39mconnect\u001b[39m(\u001b[39mself\u001b[39m):\n\u001b[0;32m    362\u001b[0m     \u001b[39m# Add certificate verification\u001b[39;00m\n\u001b[1;32m--> 363\u001b[0m     \u001b[39mself\u001b[39m\u001b[39m.\u001b[39msock \u001b[39m=\u001b[39m conn \u001b[39m=\u001b[39m \u001b[39mself\u001b[39;49m\u001b[39m.\u001b[39;49m_new_conn()\n\u001b[0;32m    364\u001b[0m     hostname \u001b[39m=\u001b[39m \u001b[39mself\u001b[39m\u001b[39m.\u001b[39mhost\n\u001b[0;32m    365\u001b[0m     tls_in_tls \u001b[39m=\u001b[39m \u001b[39mFalse\u001b[39;00m\n",
      "File \u001b[1;32md:\\Documents\\giaoTrinh\\nam_2\\ki-3\\nhap-mon-khoa-hoc-du-lieu\\bai-tap-lon-1\\.venv\\lib\\site-packages\\urllib3\\connection.py:174\u001b[0m, in \u001b[0;36mHTTPConnection._new_conn\u001b[1;34m(self)\u001b[0m\n\u001b[0;32m    171\u001b[0m     extra_kw[\u001b[39m\"\u001b[39m\u001b[39msocket_options\u001b[39m\u001b[39m\"\u001b[39m] \u001b[39m=\u001b[39m \u001b[39mself\u001b[39m\u001b[39m.\u001b[39msocket_options\n\u001b[0;32m    173\u001b[0m \u001b[39mtry\u001b[39;00m:\n\u001b[1;32m--> 174\u001b[0m     conn \u001b[39m=\u001b[39m connection\u001b[39m.\u001b[39mcreate_connection(\n\u001b[0;32m    175\u001b[0m         (\u001b[39mself\u001b[39m\u001b[39m.\u001b[39m_dns_host, \u001b[39mself\u001b[39m\u001b[39m.\u001b[39mport), \u001b[39mself\u001b[39m\u001b[39m.\u001b[39mtimeout, \u001b[39m*\u001b[39m\u001b[39m*\u001b[39mextra_kw\n\u001b[0;32m    176\u001b[0m     )\n\u001b[0;32m    178\u001b[0m \u001b[39mexcept\u001b[39;00m SocketTimeout:\n\u001b[0;32m    179\u001b[0m     \u001b[39mraise\u001b[39;00m ConnectTimeoutError(\n\u001b[0;32m    180\u001b[0m         \u001b[39mself\u001b[39m,\n\u001b[0;32m    181\u001b[0m         \u001b[39m\"\u001b[39m\u001b[39mConnection to \u001b[39m\u001b[39m%s\u001b[39;00m\u001b[39m timed out. (connect timeout=\u001b[39m\u001b[39m%s\u001b[39;00m\u001b[39m)\u001b[39m\u001b[39m\"\u001b[39m\n\u001b[0;32m    182\u001b[0m         \u001b[39m%\u001b[39m (\u001b[39mself\u001b[39m\u001b[39m.\u001b[39mhost, \u001b[39mself\u001b[39m\u001b[39m.\u001b[39mtimeout),\n\u001b[0;32m    183\u001b[0m     )\n",
      "File \u001b[1;32md:\\Documents\\giaoTrinh\\nam_2\\ki-3\\nhap-mon-khoa-hoc-du-lieu\\bai-tap-lon-1\\.venv\\lib\\site-packages\\urllib3\\util\\connection.py:85\u001b[0m, in \u001b[0;36mcreate_connection\u001b[1;34m(address, timeout, source_address, socket_options)\u001b[0m\n\u001b[0;32m     83\u001b[0m     \u001b[39mif\u001b[39;00m source_address:\n\u001b[0;32m     84\u001b[0m         sock\u001b[39m.\u001b[39mbind(source_address)\n\u001b[1;32m---> 85\u001b[0m     sock\u001b[39m.\u001b[39;49mconnect(sa)\n\u001b[0;32m     86\u001b[0m     \u001b[39mreturn\u001b[39;00m sock\n\u001b[0;32m     88\u001b[0m \u001b[39mexcept\u001b[39;00m socket\u001b[39m.\u001b[39merror \u001b[39mas\u001b[39;00m e:\n",
      "\u001b[1;31mKeyboardInterrupt\u001b[0m: "
     ]
    }
   ],
   "source": [
    "# the checklist is an array containing an array of allowed \"first characters\". If a disease does not comply, we skip it\n",
    "checkList = [[\"0\",\"1\",\"2\",\"3\",\"4\",\"5\",\"6\",\"7\",\"8\",\"9\"],[\"A\"],[\"B\"],[\"C\"],[\"D\"],[\"E\"],[\"F\"],[\"G\"],[\"H\"],[\"I\"],[\"J\"],[\"K\"],[\"L\"],[\"M\"],[\"N\"],[\"O\"],[\"P\"],[\"Q\"],[\"R\"],[\"S\"],[\"T\"],[\"U\"],[\"V\"],[\"W\"],[\"X\"],[\"Y\"],[\"Z\"]]\n",
    "docType = 'diseases' # document type we will index\n",
    "\n",
    "for diseaselistNumber, diseaselist in enumerate(diseaseListArray):  # loop through disease lists\n",
    "    for disease in diseaselist.links:  # loop through lists of links for every disease list\n",
    "        try:\n",
    "            # first check if it is a disease, then index it\n",
    "            if disease[0] in checkList[diseaselistNumber] and disease[0:3] != \"List\":\n",
    "                currentPage = wikipedia.page(disease)\n",
    "                client.index(\n",
    "                    index=indexName,\n",
    "                    id=disease,\n",
    "                    document={\n",
    "                        \"name\": disease,\n",
    "                        \"title\": currentPage.title,\n",
    "                        \"fulltext\": currentPage.content\n",
    "                    }\n",
    "                )\n",
    "        except Exception as e:\n",
    "            print(str(e))\n",
    "            pass\n"
   ]
  }
 ],
 "metadata": {
  "kernelspec": {
   "display_name": ".venv",
   "language": "python",
   "name": "python3"
  },
  "language_info": {
   "codemirror_mode": {
    "name": "ipython",
    "version": 3
   },
   "file_extension": ".py",
   "mimetype": "text/x-python",
   "name": "python",
   "nbconvert_exporter": "python",
   "pygments_lexer": "ipython3",
   "version": "3.10.10"
  },
  "orig_nbformat": 4
 },
 "nbformat": 4,
 "nbformat_minor": 2
}
